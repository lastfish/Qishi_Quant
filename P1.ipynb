{
 "cells": [
  {
   "cell_type": "code",
   "execution_count": null,
   "metadata": {
    "collapsed": true
   },
   "outputs": [],
   "source": [
    "## Math Problem\n",
    "compare $f(x)=x^a$ and $g(x)=(\\ln x)^b$"
   ]
  },
  {
   "cell_type": "markdown",
   "metadata": {},
   "source": [
    "When $0< x <1$, $\\ln x <0$ so $h(x)$ is always negative and $f(x)$ is always positive. We always have:\n",
    "$$f(x)>h(x) \\qquad (0< x < 1)$$ "
   ]
  },
  {
   "cell_type": "markdown",
   "metadata": {},
   "source": [
    "$x=0$ is trival too, we always have $f(1)=1$ and $g(1)=0$.\n"
   ]
  },
  {
   "cell_type": "markdown",
   "metadata": {},
   "source": [
    "We are interested in $x>1$.\n",
    "In this regime, $f(x)$ and $g(x)$ are both positive."
   ]
  },
  {
   "cell_type": "markdown",
   "metadata": {},
   "source": [
    "Actually we only need to compare $\\ln f(x)$ and $\\ln g(x)$. Define $y=\\ln x$ we have:\n",
    "$$ \\ln f(x) = a y \\qquad \\ln g(x) = b \\ln y $$"
   ]
  },
  {
   "cell_type": "markdown",
   "metadata": {},
   "source": [
    "Now let's compare $a y$ and $b\\ln y$ for y in the range $(0 , \\infty )$."
   ]
  },
  {
   "cell_type": "markdown",
   "metadata": {},
   "source": [
    "On one end we have $ay(y=0)=0$ and $b\\ln y(y=0)=-\\infty$.\n",
    "The other end $ay(y=\\infty) > \\ln y(y=\\infty)=\\infty$."
   ]
  },
  {
   "cell_type": "markdown",
   "metadata": {},
   "source": [
    "What about middle?\n",
    "Will we always have $ay>b \\ln y$?\n",
    "We can look at derivative.\n",
    "$$\\frac{d(ay)}{dy}=a \\qquad \\frac{d(b\\ln y)}{dy} = b/y$$."
   ]
  },
  {
   "cell_type": "markdown",
   "metadata": {},
   "source": [
    "As when y is in region $(0, b/a)$, $b\\ln y$ grows faster than $a y$.\n",
    "There's a chance the two functions will meet. What are the conditions they will meet?"
   ]
  },
  {
   "cell_type": "markdown",
   "metadata": {},
   "source": [
    "When the two functions(lines) meet, we have $ay=b\\ln y$ or $(\\ln y)/y = a/b$"
   ]
  },
  {
   "cell_type": "markdown",
   "metadata": {},
   "source": [
    "We need to find the maximum value of $(\\ln y)/y$. If a/b is larger than this number, they will never meet. If a/b equas this number, will meet once. If smaller, will meet twice."
   ]
  },
  {
   "cell_type": "markdown",
   "metadata": {},
   "source": [
    "Extreme value of $\\ln y/y$ is easy to find by doing derivative once. Find the point where derivative is zero and that happens to be $y=e$. Thus $max((\\ln y)/y) = 1/e$."
   ]
  },
  {
   "cell_type": "markdown",
   "metadata": {},
   "source": [
    "## Summary\n",
    "So we get to our conclusion\n",
    "  1. When $0<x\\le1$ we always have $f(x)>g(x)$\n",
    "  2. When $x>1$ we have 3 cases.\n",
    "    1. if $a/b > 1/e$, the two functions never meet. We always have $f(x)>g(x)$.\n",
    "    2. if $a/b=1/e$, the two function will meet at $x=e^e$. Except this point we always have $f(x)=g(x)$\n",
    "    3. if $a/b<1/e$, the two function will meet at two separate points $x_1$ and $x_2$. \n",
    "      1. When $0<x<x_1$ we have $f(x)>g(x)$\n",
    "      2. When $x_1<x<x_2$ we have $f(x)<g(x)$\n",
    "      3. When $x_2<x$ we have $f(x)>g(x)$"
   ]
  },
  {
   "cell_type": "code",
   "execution_count": null,
   "metadata": {
    "collapsed": true
   },
   "outputs": [],
   "source": []
  }
 ],
 "metadata": {
  "kernelspec": {
   "display_name": "Python 2",
   "language": "python",
   "name": "python2"
  },
  "language_info": {
   "codemirror_mode": {
    "name": "ipython",
    "version": 2
   },
   "file_extension": ".py",
   "mimetype": "text/x-python",
   "name": "python",
   "nbconvert_exporter": "python",
   "pygments_lexer": "ipython2",
   "version": "2.7.10"
  }
 },
 "nbformat": 4,
 "nbformat_minor": 0
}
